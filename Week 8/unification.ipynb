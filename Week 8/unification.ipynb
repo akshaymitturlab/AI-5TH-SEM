{
  "nbformat": 4,
  "nbformat_minor": 0,
  "metadata": {
    "colab": {
      "name": "unification.ipynb",
      "provenance": []
    },
    "kernelspec": {
      "name": "python3",
      "display_name": "Python 3"
    }
  },
  "cells": [
    {
      "cell_type": "markdown",
      "metadata": {
        "id": "w3-TQoxogWQ0"
      },
      "source": [
        "\n",
        "# KB Unification\n",
        "Akshay Mittur, 1BM18CS010"
      ]
    },
    {
      "cell_type": "code",
      "metadata": {
        "id": "JgQAk2Rafjex"
      },
      "source": [
        "import re\n",
        "\n",
        "def getAttributes(expr):\n",
        "    expr = expr.split(\"(\")[1:]\n",
        "    expr = \"(\".join(expr)\n",
        "    expr = expr[:-1]\n",
        "    expr = re.split(\"(?<!\\(.),(?!.\\))\", expr)\n",
        "    return expr"
      ],
      "execution_count": 38,
      "outputs": []
    },
    {
      "cell_type": "code",
      "metadata": {
        "id": "YLaSp024hQtz"
      },
      "source": [
        "def getInitialPredicate(expr):\n",
        "    return expr.split(\"(\")[0]\n",
        "\n",
        "def isConstant(char):\n",
        "    return char.isupper() and len(char) == 1\n",
        "\n",
        "def isVariable(char):\n",
        "    return char.islower() and len(char) == 1\n",
        "\n",
        "def replaceAttributes(expr, old, new):\n",
        "    attr = getAttributes(expr)\n",
        "    for index, val in enumerate(attr):\n",
        "        if val == old:\n",
        "            attr[index] = new\n",
        "    predicate = getInitialPredicate(expr)\n",
        "    return predicate + \"(\" + \",\".join(attr) + \")\"\n",
        "\n",
        "def apply(expr, subs):\n",
        "    for sub in subs:\n",
        "        new, old = sub  #substitution is a tuple of 2 values (new, old)\n",
        "        expr = replaceAttributes(expr, old, new)\n",
        "    return expr"
      ],
      "execution_count": 39,
      "outputs": []
    },
    {
      "cell_type": "code",
      "metadata": {
        "id": "31GfzqH-hrR_"
      },
      "source": [
        "def checkOccurs(var, expr):\n",
        "    if expr.find(var) == -1:\n",
        "        return False\n",
        "    return True\n",
        "\n",
        "def getFirstPart(expr):\n",
        "    attr = getAttributes(expr)\n",
        "    return attr[0]\n",
        "\n",
        "def getRemainingPart(expr):\n",
        "    predicate = getInitialPredicate(expr)\n",
        "    attr = getAttributes(expr)\n",
        "    newExpr = predicate + \"(\" + \",\".join(attr[1:]) + \")\"\n",
        "    return newExpr"
      ],
      "execution_count": 40,
      "outputs": []
    },
    {
      "cell_type": "code",
      "metadata": {
        "id": "RuqHPU6AiX9N"
      },
      "source": [
        "def unify(exp1, exp2):\n",
        "    if exp1 == exp2:\n",
        "        return []\n",
        "\n",
        "    if isConstant(exp1) and isConstant(exp2):\n",
        "        if exp1 != exp2:\n",
        "            return False\n",
        "\n",
        "    if isConstant(exp1):\n",
        "        return [(exp1, exp2)]\n",
        "\n",
        "    if isConstant(exp2):\n",
        "        return [(exp2, exp1)]\n",
        "\n",
        "    if isVariable(exp1):\n",
        "        if checkOccurs(exp1, exp2):\n",
        "            return False\n",
        "        else:\n",
        "            return [(exp2, exp1)]\n",
        "\n",
        "    if isVariable(exp2):\n",
        "        if checkOccurs(exp2, exp1):\n",
        "            return False\n",
        "        else:\n",
        "            return [(exp1, exp2)]\n",
        "\n",
        "    if getInitialPredicate(exp1) != getInitialPredicate(exp2):\n",
        "        print(\"Predicates do not match. Cannot be unified\")\n",
        "        return False\n",
        "\n",
        "    attributeCount1 = len(getAttributes(exp1))\n",
        "    attributeCount2 = len(getAttributes(exp2))\n",
        "    if attributeCount1 != attributeCount2:\n",
        "        return False\n",
        "\n",
        "    head1 = getFirstPart(exp1)\n",
        "    head2 = getFirstPart(exp2)\n",
        "    initialSub = unify(head1, head2)\n",
        "    if not initialSub:\n",
        "        return False\n",
        "    if attributeCount1 == 1:\n",
        "        return initialSub\n",
        "\n",
        "    tail1 = getRemainingPart(exp1)\n",
        "    tail2 = getRemainingPart(exp2)\n",
        "\n",
        "    if initialSub != []:\n",
        "        tail1 = apply(tail1, initialSub)\n",
        "        tail2 = apply(tail2, initialSub)\n",
        "\n",
        "    remainingSub = unify(tail1, tail2)\n",
        "    if not remainingSub:\n",
        "        return False\n",
        "\n",
        "    initialSub.extend(remainingSub)\n",
        "    res = []\n",
        "    for tup in initialSub:\n",
        "      st = ' / '.join(tup)\n",
        "      res.append(st)\n",
        "\n",
        "    return res"
      ],
      "execution_count": 47,
      "outputs": []
    },
    {
      "cell_type": "code",
      "metadata": {
        "colab": {
          "base_uri": "https://localhost:8080/"
        },
        "id": "1UvVnX07iwJu",
        "outputId": "8b2434f3-5801-41e7-c27f-f5ec0afa09d8"
      },
      "source": [
        "#Test Case 1\n",
        "exp1 = \"knows(John,x)\"\n",
        "exp2 = \"knows(y,Bill)\"\n",
        "subs = unify(exp1, exp2)\n",
        "print(\"Substitutions:\")\n",
        "print(subs)"
      ],
      "execution_count": 48,
      "outputs": [
        {
          "output_type": "stream",
          "text": [
            "Substitutions:\n",
            "['John / y', 'Bill / x']\n"
          ],
          "name": "stdout"
        }
      ]
    },
    {
      "cell_type": "code",
      "metadata": {
        "colab": {
          "base_uri": "https://localhost:8080/"
        },
        "id": "EiOwWeyyiycs",
        "outputId": "878d2054-21d5-4c5c-e6b6-f05e6480ee64"
      },
      "source": [
        "#Test Case 2\n",
        "exp1 = \"studies(x,g(x))\"\n",
        "exp2 = \"studies(z,g(z))\"\n",
        "subs = unify(exp1, exp2)\n",
        "print(\"Substitutions:\")\n",
        "print(subs)"
      ],
      "execution_count": 49,
      "outputs": [
        {
          "output_type": "stream",
          "text": [
            "Substitutions:\n",
            "['z / x', 'z / x']\n"
          ],
          "name": "stdout"
        }
      ]
    },
    {
      "cell_type": "code",
      "metadata": {
        "colab": {
          "base_uri": "https://localhost:8080/"
        },
        "id": "2Q0btsVlkQ6C",
        "outputId": "1180f262-0b42-45d8-e322-79662878960c"
      },
      "source": [
        "#Test Case 3\n",
        "exp1 = \"studies(x,g(x))\"\n",
        "exp2 = \"studies(z,f(z))\"\n",
        "subs = unify(exp1, exp2)\n",
        "print(\"Substitutions:\")\n",
        "print(subs)"
      ],
      "execution_count": 50,
      "outputs": [
        {
          "output_type": "stream",
          "text": [
            "Predicates do not match. Cannot be unified\n",
            "Substitutions:\n",
            "False\n"
          ],
          "name": "stdout"
        }
      ]
    },
    {
      "cell_type": "code",
      "metadata": {
        "colab": {
          "base_uri": "https://localhost:8080/"
        },
        "id": "SyxsTGrjlz2m",
        "outputId": "402ae668-f595-4079-de62-7e11cfce6ca9"
      },
      "source": [
        "#Test Case Interactive\n",
        "exp1 = input(\"Expression 1:  \")\n",
        "exp2 = input(\"Expression 2:  \")\n",
        "subs = unify(exp1, exp2)\n",
        "print(\"Substitutions:\")\n",
        "print(subs)"
      ],
      "execution_count": 55,
      "outputs": [
        {
          "output_type": "stream",
          "text": [
            "Expression 1:  Makes(x,C)\n",
            "Expression 2:  Makes(M,y)\n",
            "Substitutions:\n",
            "['M / x', 'C / y']\n"
          ],
          "name": "stdout"
        }
      ]
    }
  ]
}