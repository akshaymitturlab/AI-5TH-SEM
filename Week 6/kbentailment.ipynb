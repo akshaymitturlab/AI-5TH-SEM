{
  "nbformat": 4,
  "nbformat_minor": 0,
  "metadata": {
    "colab": {
      "name": "week6.ipynb",
      "provenance": []
    },
    "kernelspec": {
      "name": "python3",
      "display_name": "Python 3"
    }
  },
  "cells": [
    {
      "cell_type": "markdown",
      "metadata": {
        "id": "u0mmfFYt0eVd"
      },
      "source": [
        "## Create a knowledgebase using propositional logic and show that the given query entails the knowledge base or not\n",
        "\n",
        "### 1BM18CS010 Akshay Mittur"
      ]
    },
    {
      "cell_type": "code",
      "metadata": {
        "id": "XjBoqaPxpCQF"
      },
      "source": [
        "combinations=[(True,True, True),(True,True,False),(True,False,True),(True,False, False),(False,True, True),(False,True, False),(False, False,True),(False,False, False)] #expand this set for more variables\n",
        "variable={'p':0,'q':1, 'r':2}#expand this set matching combinations indices for variables\n",
        "#set of rules\n",
        "kb=''#should be a cnf \n",
        "q=''#should be a cnf\n",
        "priority={'~':3,'v':1,'^':2}"
      ],
      "execution_count": 28,
      "outputs": []
    },
    {
      "cell_type": "code",
      "metadata": {
        "id": "xyn3nTcYuUqW"
      },
      "source": [
        "def input_rules():\n",
        "  global kb, q\n",
        "  kb = (input(\"Enter Rule :\"))\n",
        "  q = input(\"Enter Query : \")\n",
        "\n",
        "def entailment():\n",
        "  global kb, q\n",
        "  print('*' * 10 + \"Truth Table Reference\" + \"*\" * 10)\n",
        "  print(\"kb\", \"alpha\")\n",
        "  print(\"*\" * 10)\n",
        "  for comb in combinations:\n",
        "    s = evaluatePostfix(toPostfix(kb), comb)\n",
        "    f = evaluatePostfix(toPostfix(q), comb)\n",
        "    print(s, f)\n",
        "    print(\"-\" * 10)\n",
        "    if s and not f:\n",
        "      return False\n",
        "  return True"
      ],
      "execution_count": 29,
      "outputs": []
    },
    {
      "cell_type": "code",
      "metadata": {
        "id": "e5HAihCqu-20"
      },
      "source": [
        "def isOperand(c):\n",
        "  return c.isalpha() and c != 'v'\n",
        "\n",
        "def isLeftParenthesis(c):\n",
        "  return c == \"(\"\n",
        "\n",
        "def isRightParenthesis(c):\n",
        "  return c == \")\"\n",
        "\n",
        "def isEmpty(stack):\n",
        "  return len(stack) == 0\n",
        "\n",
        "def peek(stack):\n",
        "  return stack[-1]\n",
        "\n",
        "def hasLessOrEqualPriority(c1, c2):\n",
        "  try: return priority[c1] <= priority[c2]\n",
        "  except KeyError: return False\n",
        "\n",
        "def toPostfix(infix):\n",
        "  stack = []\n",
        "  postfix = ''\n",
        "  for c in infix:\n",
        "    if isOperand(c):\n",
        "      postfix += c\n",
        "    else:\n",
        "      if isLeftParenthesis(c):\n",
        "        stack.append(c)\n",
        "      elif isRightParenthesis(c):\n",
        "        operator = stack.pop()\n",
        "        while not isLeftParenthesis(operator):\n",
        "          postfix += operator\n",
        "          operator = stack.pop()\n",
        "      else:\n",
        "        while (not isEmpty(stack)) and hasLessOrEqualPriority(c, peek(stack)):\n",
        "          postfix += stack.pop()\n",
        "        stack.append(c)\n",
        "  while (not isEmpty(stack)):\n",
        "    postfix += stack.pop()\n",
        "  return postfix\n",
        "\n",
        "def _eval(i, val1, val2):\n",
        "    if i == '^': return val2 and val1\n",
        "    return val2 or val1\n",
        "    \n",
        "def evaluatePostfix(exp, comb):\n",
        "  stack = []\n",
        "  for i in exp:\n",
        "    if isOperand(i):\n",
        "      stack.append(comb[variable[i]])\n",
        "    elif i == '~':\n",
        "      val1 = stack.pop()\n",
        "      stack.append(not val1)\n",
        "    else:\n",
        "      val1 = stack.pop()\n",
        "      val2 = stack.pop()\n",
        "      stack.append(_eval(i, val2, val1))\n",
        "  return stack.pop()\n"
      ],
      "execution_count": 38,
      "outputs": []
    },
    {
      "cell_type": "code",
      "metadata": {
        "id": "-L_YMnskvDaJ",
        "outputId": "2794a8ba-1e36-4f77-ecd1-3540d56386ab",
        "colab": {
          "base_uri": "https://localhost:8080/"
        }
      },
      "source": [
        "#Test 1\n",
        "input_rules()\n",
        "ans = entailment()\n",
        "if ans: print(\"The Knowledge Base Entails Query\")\n",
        "else: print(\"The Knowledge Base Doesn't Entail Query\")"
      ],
      "execution_count": 39,
      "outputs": [
        {
          "output_type": "stream",
          "text": [
            "Enter Rule :(~qv~pvr)^(~q^p)^q\n",
            "Enter Query : r\n",
            "**********Truth Table Reference**********\n",
            "kb alpha\n",
            "**********\n",
            "False True\n",
            "----------\n",
            "False False\n",
            "----------\n",
            "False True\n",
            "----------\n",
            "False False\n",
            "----------\n",
            "False True\n",
            "----------\n",
            "False False\n",
            "----------\n",
            "False True\n",
            "----------\n",
            "False False\n",
            "----------\n",
            "The Knowledge Base Entails Query\n"
          ],
          "name": "stdout"
        }
      ]
    },
    {
      "cell_type": "code",
      "metadata": {
        "id": "Ys2R8vj-xYPz",
        "outputId": "be535831-99dd-4dfd-b88a-dfa83afd9867",
        "colab": {
          "base_uri": "https://localhost:8080/"
        }
      },
      "source": [
        "#Test 2\n",
        "input_rules()\n",
        "ans = entailment()\n",
        "if ans:\n",
        "    print(\"The Knowledge Base entails query\")\n",
        "else:\n",
        "    print(\"The Knowledge Base does not entail query\")"
      ],
      "execution_count": 42,
      "outputs": [
        {
          "output_type": "stream",
          "text": [
            "Enter Rule :(pvq)^(~rvp)\n",
            "Enter Query : r^q\n",
            "**********Truth Table Reference**********\n",
            "kb alpha\n",
            "**********\n",
            "True True\n",
            "----------\n",
            "True False\n",
            "----------\n",
            "The Knowledge Base does not entail query\n"
          ],
          "name": "stdout"
        }
      ]
    },
    {
      "cell_type": "code",
      "metadata": {
        "id": "nYrTYRqa36c9"
      },
      "source": [
        ""
      ],
      "execution_count": null,
      "outputs": []
    }
  ]
}