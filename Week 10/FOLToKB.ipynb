{
  "nbformat": 4,
  "nbformat_minor": 0,
  "metadata": {
    "colab": {
      "name": "FOLToKB.ipynb",
      "provenance": []
    },
    "kernelspec": {
      "name": "python3",
      "display_name": "Python 3"
    }
  },
  "cells": [
    {
      "cell_type": "markdown",
      "metadata": {
        "id": "Sbn-l2tcp23P"
      },
      "source": [
        "# Create a knowledgebase consisting of first order logic statements and prove the given query using forward reasoning.\r\n",
        "Akshay Mittur, 1BM18CS010"
      ]
    },
    {
      "cell_type": "code",
      "metadata": {
        "id": "CGwWNCWaphNm"
      },
      "source": [
        "import re\r\n",
        "\r\n",
        "def isVariable(x):\r\n",
        "    return len(x) == 1 and x.islower() and x.isalpha()\r\n",
        "\r\n",
        "def getAttributes(string):\r\n",
        "    expr = '\\([^)]+\\)'\r\n",
        "    matches = re.findall(expr, string)\r\n",
        "    return matches\r\n",
        "\r\n",
        "def getPredicates(string):\r\n",
        "    expr = '([a-z~]+)\\([^&|]+\\)'\r\n",
        "    return re.findall(expr, string)"
      ],
      "execution_count": 1,
      "outputs": []
    },
    {
      "cell_type": "code",
      "metadata": {
        "id": "mm4n6X-R3YoS"
      },
      "source": [
        "class Fact:\r\n",
        "    def __init__(self, expression):\r\n",
        "        self.expression = expression\r\n",
        "        predicate, params = self.splitExpression(expression)\r\n",
        "        self.predicate = predicate\r\n",
        "        self.params = params\r\n",
        "        self.result = any(self.getConstants())\r\n",
        "        \r\n",
        "    def splitExpression(self, expression):\r\n",
        "        predicate = getPredicates(expression)[0]\r\n",
        "        params = getAttributes(expression)[0].strip('()').split(',')\r\n",
        "        return [predicate, params]\r\n",
        "    \r\n",
        "    def getResult(self):\r\n",
        "        return self.result\r\n",
        "    \r\n",
        "    def getConstants(self):\r\n",
        "        return [None if isVariable(c) else c for c in self.params]\r\n",
        "    \r\n",
        "    def getVariables(self):\r\n",
        "        return [v if isVariable(v) else None for v in self.params]\r\n",
        "    \r\n",
        "    def substitute(self, constants):\r\n",
        "        c = constants.copy()\r\n",
        "        f = f\"{self.predicate}({','.join([constants.pop(0) if isVariable(p) else p for p in self.params])})\"\r\n",
        "        return Fact(f)\r\n",
        "    \r\n",
        "class Implication:\r\n",
        "    def __init__(self, expression):\r\n",
        "        self.expression = expression\r\n",
        "        l = expression.split('=>')\r\n",
        "        self.lhs = [Fact(f) for f in l[0].split('&')]\r\n",
        "        self.rhs = Fact(l[1])\r\n",
        "        \r\n",
        "    def evaluate(self, facts):\r\n",
        "        constants = {}\r\n",
        "        new_lhs = []\r\n",
        "        for fact in facts:\r\n",
        "            for val in self.lhs:\r\n",
        "                if val.predicate == fact.predicate:\r\n",
        "                    for i, v in enumerate(val.getVariables()):\r\n",
        "                        if v:\r\n",
        "                            constants[v] = fact.getConstants()[i]\r\n",
        "                    new_lhs.append(fact)\r\n",
        "        predicate, attributes = getPredicates(self.rhs.expression)[0], str(getAttributes(self.rhs.expression)[0])\r\n",
        "        for key in constants:\r\n",
        "            if constants[key]:\r\n",
        "                attributes = attributes.replace(key, constants[key])\r\n",
        "        expr = f'{predicate}{attributes}'\r\n",
        "        return Fact(expr) if len(new_lhs) and all([f.getResult() for f in new_lhs]) else None\r\n",
        "\r\n",
        "class KB:\r\n",
        "    def __init__(self):\r\n",
        "        self.facts = set()\r\n",
        "        self.implications = set()\r\n",
        "            \r\n",
        "    def tell(self, e):\r\n",
        "        if '=>' in e:\r\n",
        "            self.implications.add(Implication(e))\r\n",
        "        else:\r\n",
        "            self.facts.add(Fact(e))\r\n",
        "        for i in self.implications:\r\n",
        "            res = i.evaluate(self.facts)\r\n",
        "            if res:\r\n",
        "                self.facts.add(res)\r\n",
        "\r\n",
        "    def query(self, e):\r\n",
        "        facts = set([f.expression for f in self.facts])\r\n",
        "        i = 1\r\n",
        "        print(f'Querying {e}:')\r\n",
        "        for f in facts:\r\n",
        "            if Fact(f).predicate == Fact(e).predicate:\r\n",
        "                print(f'\\t{i}. {f}')\r\n",
        "                i += 1\r\n",
        "    \r\n",
        "    def display(self):\r\n",
        "        print(\"All facts: \")\r\n",
        "        for i, f in enumerate(set([f.expression for f in self.facts])):\r\n",
        "            print(f'\\t{i+1}. {f}')"
      ],
      "execution_count": 2,
      "outputs": []
    },
    {
      "cell_type": "code",
      "metadata": {
        "colab": {
          "base_uri": "https://localhost:8080/"
        },
        "id": "MNpelqUz3bAQ",
        "outputId": "58afc2a6-8952-41d1-9918-3bc510bb933e"
      },
      "source": [
        "#Test Case 1\r\n",
        "kb = KB()\r\n",
        "kb.tell('missile(x)=>weapon(x)')\r\n",
        "kb.tell('missile(M1)')\r\n",
        "kb.tell('enemy(x,America)=>hostile(x)')\r\n",
        "kb.tell('american(West)')\r\n",
        "kb.tell('enemy(Nono,America)')\r\n",
        "kb.tell('owns(Nono,M1)')\r\n",
        "kb.tell('missile(x)&owns(Nono,x)=>sells(West,x,Nono)')\r\n",
        "kb.tell('american(x)&weapon(y)&sells(x,y,z)&hostile(z)=>criminal(x)')\r\n",
        "kb.query('criminal(x)')\r\n",
        "kb.display()"
      ],
      "execution_count": 4,
      "outputs": [
        {
          "output_type": "stream",
          "text": [
            "Querying criminal(x):\n",
            "\t1. criminal(West)\n",
            "All facts: \n",
            "\t1. american(West)\n",
            "\t2. enemy(Nono,America)\n",
            "\t3. hostile(Nono)\n",
            "\t4. missile(M1)\n",
            "\t5. owns(Nono,M1)\n",
            "\t6. weapon(M1)\n",
            "\t7. criminal(West)\n",
            "\t8. sells(West,M1,Nono)\n"
          ],
          "name": "stdout"
        }
      ]
    },
    {
      "cell_type": "code",
      "metadata": {
        "colab": {
          "base_uri": "https://localhost:8080/"
        },
        "id": "DD9V-dMp3h04",
        "outputId": "78c441bb-bd65-4549-fb78-b990e3c0763f"
      },
      "source": [
        "#Test Case 2\r\n",
        "kb_ = KB()\r\n",
        "kb_.tell('king(x)&greedy(x)=>evil(x)')\r\n",
        "kb_.tell('king(John)')\r\n",
        "kb_.tell('greedy(John)')\r\n",
        "kb_.tell('king(Richard)')\r\n",
        "kb_.query('evil(x)')"
      ],
      "execution_count": 5,
      "outputs": [
        {
          "output_type": "stream",
          "text": [
            "Querying evil(x):\n",
            "\t1. evil(John)\n"
          ],
          "name": "stdout"
        }
      ]
    }
  ]
}