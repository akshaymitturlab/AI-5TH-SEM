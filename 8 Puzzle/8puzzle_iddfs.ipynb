{
  "nbformat": 4,
  "nbformat_minor": 0,
  "metadata": {
    "colab": {
      "name": "8puzzle-iddfs.ipynb",
      "provenance": []
    },
    "kernelspec": {
      "name": "python3",
      "display_name": "Python 3"
    }
  },
  "cells": [
    {
      "cell_type": "code",
      "metadata": {
        "id": "LF542UMZcTHX"
      },
      "source": [
        "# DFS function\n",
        "def dfs(src,target,limit,visited_states):\n",
        "    if src == target:\n",
        "        return True\n",
        "    if limit <= 0:\n",
        "        return False\n",
        "    visited_states.append(src)\n",
        "    moves = possible_moves(src,visited_states)   \n",
        "    for move in moves:\n",
        "        if dfs(move, target, limit-1, visited_states):\n",
        "            return True\n",
        "    return False"
      ],
      "execution_count": 1,
      "outputs": []
    },
    {
      "cell_type": "code",
      "metadata": {
        "id": "aM22dz0pchf5"
      },
      "source": [
        "# Possible Moves function\n",
        "def possible_moves(state,visited_states): \n",
        "    b = state.index(-1)  \n",
        "    d = []\n",
        "    if b not in [0,1,2]: \n",
        "        d += 'u'\n",
        "    if b not in [6,7,8]:\n",
        "        d += 'd'\n",
        "    if b not in [2,5,8]: \n",
        "        d += 'r'\n",
        "    if b not in [0,3,6]: \n",
        "        d += 'l'\n",
        "    pos_moves = []\n",
        "    for move in d:\n",
        "        pos_moves.append(gen(state,move,b))\n",
        "    return [move for move in pos_moves if move not in visited_states]"
      ],
      "execution_count": 2,
      "outputs": []
    },
    {
      "cell_type": "code",
      "metadata": {
        "id": "iW3tzpc1cmg-"
      },
      "source": [
        "# IDDFS function\n",
        "def gen(state, move, blank): \n",
        "    temp = state.copy()                              \n",
        "    if move == 'u':\n",
        "        temp[blank-3], temp[blank] = temp[blank], temp[blank-3]\n",
        "    if move == 'd':\n",
        "        temp[blank+3], temp[blank] = temp[blank], temp[blank+3]\n",
        "    if move == 'r':\n",
        "        temp[blank+1], temp[blank] = temp[blank], temp[blank+1]\n",
        "    if move == 'l':\n",
        "        temp[blank-1], temp[blank] = temp[blank], temp[blank-1]\n",
        "    return temp\n",
        "\n",
        "def iddfs(src,target,depth):\n",
        "    for i in range(depth):\n",
        "        visited_states = []\n",
        "        if dfs(src,target,i+1,visited_states):\n",
        "            return True\n",
        "    return False"
      ],
      "execution_count": 3,
      "outputs": []
    },
    {
      "cell_type": "code",
      "metadata": {
        "id": "V3esha3Lcr_l",
        "outputId": "91ed50d6-ca70-4ff2-a947-d71f527ce069",
        "colab": {
          "base_uri": "https://localhost:8080/"
        }
      },
      "source": [
        "# Test Case 1\n",
        "src = [1,2,3,-1,4,5,6,7,8]\n",
        "target = [1,2,3,4,5,-1,6,7,8]         \n",
        "\n",
        "depth = 1\n",
        "iddfs(src, target, depth)"
      ],
      "execution_count": 4,
      "outputs": [
        {
          "output_type": "execute_result",
          "data": {
            "text/plain": [
              "False"
            ]
          },
          "metadata": {
            "tags": []
          },
          "execution_count": 4
        }
      ]
    },
    {
      "cell_type": "code",
      "metadata": {
        "id": "ZK8UXuticwuF",
        "outputId": "804fc677-9c35-414d-f7e2-6873618670fe",
        "colab": {
          "base_uri": "https://localhost:8080/"
        }
      },
      "source": [
        "# Test Case 2\n",
        "src = [1, 2, 3, 4, 5, 6, 7, 8, -1]\n",
        "target = [-1, 1, 2, 3, 4, 5, 6, 7, 8]\n",
        "\n",
        "for i in range(1, 20):\n",
        "    val = iddfs(src,target,i)\n",
        "    print(i, val)\n",
        "    if val == True:\n",
        "        break"
      ],
      "execution_count": 6,
      "outputs": [
        {
          "output_type": "stream",
          "text": [
            "1 False\n",
            "2 False\n",
            "3 False\n",
            "4 False\n",
            "5 False\n",
            "6 False\n",
            "7 False\n",
            "8 False\n",
            "9 False\n",
            "10 False\n",
            "11 False\n",
            "12 False\n",
            "13 False\n",
            "14 False\n",
            "15 False\n",
            "16 False\n",
            "17 False\n",
            "18 False\n",
            "19 False\n"
          ],
          "name": "stdout"
        }
      ]
    },
    {
      "cell_type": "code",
      "metadata": {
        "id": "1QNxyI1-c0Xl"
      },
      "source": [
        ""
      ],
      "execution_count": null,
      "outputs": []
    }
  ]
}