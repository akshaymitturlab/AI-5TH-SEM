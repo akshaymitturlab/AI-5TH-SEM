{
  "nbformat": 4,
  "nbformat_minor": 0,
  "metadata": {
    "orig_nbformat": 2,
    "colab": {
      "name": "kbresolution.ipynb",
      "provenance": []
    },
    "kernelspec": {
      "name": "python3",
      "display_name": "Python 3"
    }
  },
  "cells": [
    {
      "cell_type": "markdown",
      "metadata": {
        "id": "_zJbuzHHIuxK"
      },
      "source": [
        "## Create a knowledgebase using prepositional logic and prove the given query using resolution\n",
        "Akshay Mittur, 1BM18CS010"
      ]
    },
    {
      "cell_type": "code",
      "metadata": {
        "id": "hDNaNLshI7U2"
      },
      "source": [
        "def disjunctify(clauses):\n",
        "    disjuncts = []\n",
        "    for clause in clauses:\n",
        "        disjuncts.append(tuple(clause.split('v')))\n",
        "    return disjuncts\n",
        "\n",
        "def getResolvant(ci, cj, di, dj):\n",
        "    resolvant = list(ci) + list(cj)\n",
        "    resolvant.remove(di)\n",
        "    resolvant.remove(dj)\n",
        "    return tuple(resolvant)\n",
        "\n",
        "def resolve(ci, cj):\n",
        "    for di in ci:\n",
        "        for dj in cj:\n",
        "            if di == '~' + dj or dj == '~' + di:\n",
        "                return getResolvant(ci, cj, di, dj)"
      ],
      "execution_count": 27,
      "outputs": []
    },
    {
      "cell_type": "code",
      "metadata": {
        "id": "nmR_lOcTJDql"
      },
      "source": [
        "def checkResolution(clauses, query):\n",
        "    clauses += [query if query.startswith('~') else '~' + query]\n",
        "    proposition = '^'.join(['(' + clause + ')' for clause in clauses])\n",
        "    print(f'Trying to prove {proposition} by contradiction....')\n",
        "    \n",
        "    clauses = disjunctify(clauses)\n",
        "    resolved = False\n",
        "    new = set()\n",
        "    \n",
        "    while not resolved:\n",
        "        n = len(clauses)\n",
        "        pairs = [(clauses[i], clauses[j]) for i in range(n) for j in range(i + 1, n)]\n",
        "        for (ci, cj) in pairs:\n",
        "            resolvant = resolve(ci, cj)\n",
        "            if not resolvant:\n",
        "                resolved = True\n",
        "                break\n",
        "            new = new.union(set(resolvents))\n",
        "        if new.issubset(set(clauses)):\n",
        "            break\n",
        "        for clause in new:\n",
        "            if clause not in clauses:\n",
        "                clauses.append(clause)\n",
        "        \n",
        "    if resolved:\n",
        "        print('Knowledge Base entails the query, proved by resolution')\n",
        "    else:\n",
        "        print(\"Knowledge Base doesn't entail the query, no empty set produced after resolution\")"
      ],
      "execution_count": 28,
      "outputs": []
    },
    {
      "cell_type": "code",
      "metadata": {
        "id": "RlNDF1AXJIFm",
        "colab": {
          "base_uri": "https://localhost:8080/"
        },
        "outputId": "d3549e76-fb34-479f-e331-c2272e2528c8"
      },
      "source": [
        "#Test Case 1\n",
        "clauses = input('Enter the clauses ').split()\n",
        "query = input('Enter the query: ')\n",
        "checkResolution(clauses, query)"
      ],
      "execution_count": 29,
      "outputs": [
        {
          "output_type": "stream",
          "text": [
            "Enter the clauses AvB BvC ~C\n",
            "Enter the query: B\n",
            "Trying to prove (AvB)^(BvC)^(~C)^(~B) by contradiction....\n",
            "Knowledge Base entails the query, proved by resolution\n"
          ],
          "name": "stdout"
        }
      ]
    },
    {
      "cell_type": "code",
      "metadata": {
        "colab": {
          "base_uri": "https://localhost:8080/"
        },
        "id": "YRIofP3kJ7iu",
        "outputId": "2870cfbd-ea98-4751-afae-931727d0250a"
      },
      "source": [
        "#Test Case 2\n",
        "clauses = input('Enter the clauses ').split()\n",
        "query = input('Enter the query: ')\n",
        "checkResolution(clauses, query)"
      ],
      "execution_count": 32,
      "outputs": [
        {
          "output_type": "stream",
          "text": [
            "Enter the clauses ~Qv~PvR ~Q^P Q\n",
            "Enter the query: Q\n",
            "Trying to prove (~Qv~PvR)^(~Q^P)^(Q)^(~Q) by contradiction....\n",
            "Knowledge Base entails the query, proved by resolution\n"
          ],
          "name": "stdout"
        }
      ]
    },
    {
      "cell_type": "code",
      "metadata": {
        "id": "KM7jaZVNZzQL"
      },
      "source": [
        ""
      ],
      "execution_count": null,
      "outputs": []
    }
  ]
}