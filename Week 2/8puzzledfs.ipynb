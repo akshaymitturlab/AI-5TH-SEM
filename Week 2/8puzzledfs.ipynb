{
  "nbformat": 4,
  "nbformat_minor": 0,
  "metadata": {
    "kernelspec": {
      "name": "python3",
      "display_name": "Python 3",
      "language": "python"
    },
    "language_info": {
      "name": "python",
      "version": "3.7.6",
      "mimetype": "text/x-python",
      "codemirror_mode": {
        "name": "ipython",
        "version": 3
      },
      "pygments_lexer": "ipython3",
      "nbconvert_exporter": "python",
      "file_extension": ".py"
    },
    "colab": {
      "name": "8puzzledfs.ipynb",
      "provenance": []
    }
  },
  "cells": [
    {
      "cell_type": "markdown",
      "metadata": {
        "id": "re9VxPUKIu6b"
      },
      "source": [
        "# 8 Puzzle Problem"
      ]
    },
    {
      "cell_type": "code",
      "metadata": {
        "trusted": true,
        "id": "CD_jbJv8Iu6e"
      },
      "source": [
        "# Depth first search in search of target - Using Recursion\n",
        "\n",
        "def dfs(src,target,limit,visited_states):\n",
        "    # Base case if Target found\n",
        "    if src == target : return True\n",
        "    \n",
        "    \n",
        "    # Base case if limit exceeded\n",
        "\n",
        "    if limit <= 0 : return False\n",
        "    \n",
        "    # Add source to visited_states\n",
        "    visited_states.append(src)\n",
        "    \n",
        "    \n",
        "    # Find possible slides up, down, left right to current empty site\n",
        "    ### Jump to possible_moves function\n",
        "    poss_moves = possible_moves(src, visited_states)\n",
        "        \n",
        "        \n",
        "        \n",
        "    # For all possible moves gotten from the possible moves function\n",
        "    # Check if src equals to new targets\n",
        "    # Return True if target found in given depth limit\n",
        "    for move in poss_moves:\n",
        "        if dfs(move, target, limit-1, visited_states): return True\n",
        "    return False"
      ],
      "execution_count": 1,
      "outputs": []
    },
    {
      "cell_type": "code",
      "metadata": {
        "trusted": true,
        "id": "Iy5oxXJkIu6h"
      },
      "source": [
        "def possible_moves(state,visited_states): \n",
        "    # Find index of empty spot and assign it to b\n",
        "    b = state.index(-1)  \n",
        "    \n",
        "    #'d' for down, 'u' for up, 'r' for right, 'l' for left - directions array\n",
        "    d = []\n",
        "                                    \n",
        "    #Add all possible direction into directions array - Hint using if statements\n",
        "    \n",
        "    if b + 3 in range(9): d.append('d')\n",
        "    if b - 3 in range(9): d.append('u')\n",
        "    if b not in [0,3,6]: d.append('l')\n",
        "    if b not in [2,5,8]: d.append('r')\n",
        "    \n",
        "    # If direction is possible then add state to move\n",
        "    pos_moves = []\n",
        "    \n",
        "    # for all possible directions find the state if that move is played\n",
        "    ### Jump to gen function to generate all possible moves in the given directions\n",
        "    for m in d:\n",
        "        pos_moves.append(gen(state, m, b))\n",
        "    \n",
        "    # return all possible moves only if the move not in visited_states\n",
        "    return [move for move in pos_moves if move not in visited_states]\n",
        "\n",
        "\n",
        "\n"
      ],
      "execution_count": 2,
      "outputs": []
    },
    {
      "cell_type": "code",
      "metadata": {
        "trusted": true,
        "id": "cv4phhthIu6k"
      },
      "source": [
        "def gen(state, m, b): # m(move) is direction to slide, b(blank) is index of empty spot\n",
        "    # create a copy of current state to test the move\n",
        "    temp = state.copy()                               \n",
        "    \n",
        "    # if move is to slide empty spot to the left and so on\n",
        "    \n",
        "    if m == 'd': temp[b+3] , temp[b] = temp[b], temp[b+3]\n",
        "    if m == 'u': temp[b-3] , temp[b] = temp[b], temp[b-3]\n",
        "    if m == 'l': temp[b-1] , temp[b] = temp[b], temp[b-1]\n",
        "    if m == 'r': temp[b+1] , temp[b] = temp[b], temp[b+1]\n",
        "    \n",
        "    # return new state with tested move to later check if \"src == target\"\n",
        "    return temp"
      ],
      "execution_count": 3,
      "outputs": []
    },
    {
      "cell_type": "code",
      "metadata": {
        "trusted": true,
        "id": "F8nw4i8RIu6n"
      },
      "source": [
        "def iddfs(src,target,depth):\n",
        "    visited_states = []\n",
        "    # Return Min depth at which the target was found\n",
        "    for i in range(1, depth+1):\n",
        "        if dfs(src, target, i, visited_states): return True\n",
        "    return False"
      ],
      "execution_count": 4,
      "outputs": []
    },
    {
      "cell_type": "code",
      "metadata": {
        "trusted": true,
        "id": "r8bv3FYDIu6q",
        "outputId": "49dc626a-e707-4e66-9cdd-ff123550e52d",
        "colab": {
          "base_uri": "https://localhost:8080/",
          "height": 34
        }
      },
      "source": [
        "#Test 1\n",
        "src = [1,2,3,-1,4,5,6,7,8]\n",
        "target = [1,2,3,4,5,-1,6,7,8]         \n",
        "       \n",
        "\n",
        "\n",
        "depth = 2\n",
        "print(iddfs(src, target, depth)) # Minimum depth should be 2"
      ],
      "execution_count": 5,
      "outputs": [
        {
          "output_type": "stream",
          "text": [
            "True\n"
          ],
          "name": "stdout"
        }
      ]
    },
    {
      "cell_type": "code",
      "metadata": {
        "trusted": true,
        "id": "uYmXzVFkIu6t",
        "outputId": "b2cb34e8-9b66-43ce-a0cb-aecee98ed197",
        "colab": {
          "base_uri": "https://localhost:8080/",
          "height": 34
        }
      },
      "source": [
        "# Test 2\n",
        "src = [1,2,3,-1,4,5,6,7,8] \n",
        "target=[1,2,3,6,4,5,-1,7,8]\n",
        "\n",
        "depth = 1\n",
        "iddfs(src, target, depth) # Minimum depth is 1"
      ],
      "execution_count": 6,
      "outputs": [
        {
          "output_type": "execute_result",
          "data": {
            "text/plain": [
              "True"
            ]
          },
          "metadata": {
            "tags": []
          },
          "execution_count": 6
        }
      ]
    },
    {
      "cell_type": "code",
      "metadata": {
        "trusted": true,
        "id": "qPpYxfgvIu6w",
        "outputId": "837dc854-d58a-4ee2-a4d9-d1169c6392d8",
        "colab": {
          "base_uri": "https://localhost:8080/",
          "height": 34
        }
      },
      "source": [
        "# Test 3\n",
        "# Try to create a source and target that reaches large minimum required depth \n",
        "src = None\n",
        "target = None\n",
        "\n",
        "\n",
        "\n",
        "\n",
        "\n",
        "\n",
        "iddfs(src, target, depth) # I have reached 25 in the next cell, Lets see if u can beat that"
      ],
      "execution_count": 7,
      "outputs": [
        {
          "output_type": "execute_result",
          "data": {
            "text/plain": [
              "True"
            ]
          },
          "metadata": {
            "tags": []
          },
          "execution_count": 7
        }
      ]
    },
    {
      "cell_type": "code",
      "metadata": {
        "trusted": true,
        "id": "y0nnKXXuIu6y",
        "outputId": "ca002a29-cade-4613-863b-2bda0c27a6bd",
        "colab": {
          "base_uri": "https://localhost:8080/",
          "height": 1000
        }
      },
      "source": [
        "# # Maximum Change \n",
        "# # An Experiemnt I did to try and find the maximum required depth assuming \n",
        "# # that this was the biggest possible change from src to target\n",
        "\n",
        "# # Uncomment to try\n",
        "src = [1, 2, 3, 4, 5, 6, 7, 8, -1]\n",
        "target = [-1, 1, 2, 3, 4, 5, 6, 7, 8]\n",
        "\n",
        "for i in range(1, 150):\n",
        "    val = iddfs(src,target,i)\n",
        "    print(i, val)\n",
        "    if val == True:\n",
        "        break"
      ],
      "execution_count": 9,
      "outputs": [
        {
          "output_type": "stream",
          "text": [
            "1 False\n",
            "2 False\n",
            "3 False\n",
            "4 False\n",
            "5 False\n",
            "6 False\n",
            "7 False\n",
            "8 False\n",
            "9 False\n",
            "10 False\n",
            "11 False\n",
            "12 False\n",
            "13 False\n",
            "14 False\n",
            "15 False\n",
            "16 False\n",
            "17 False\n",
            "18 False\n",
            "19 False\n",
            "20 False\n",
            "21 False\n",
            "22 False\n",
            "23 False\n",
            "24 False\n",
            "25 False\n",
            "26 False\n",
            "27 False\n",
            "28 False\n",
            "29 False\n",
            "30 False\n",
            "31 False\n",
            "32 False\n",
            "33 False\n",
            "34 False\n",
            "35 False\n",
            "36 False\n",
            "37 False\n",
            "38 False\n",
            "39 False\n",
            "40 False\n",
            "41 False\n",
            "42 False\n",
            "43 False\n",
            "44 False\n",
            "45 False\n",
            "46 False\n",
            "47 False\n",
            "48 False\n",
            "49 False\n",
            "50 False\n",
            "51 False\n",
            "52 False\n",
            "53 False\n",
            "54 False\n",
            "55 False\n",
            "56 False\n",
            "57 False\n",
            "58 False\n",
            "59 False\n",
            "60 False\n",
            "61 False\n",
            "62 False\n",
            "63 False\n",
            "64 False\n",
            "65 False\n",
            "66 False\n",
            "67 False\n",
            "68 False\n",
            "69 False\n",
            "70 False\n",
            "71 False\n",
            "72 False\n",
            "73 False\n",
            "74 False\n",
            "75 False\n",
            "76 False\n",
            "77 False\n",
            "78 False\n",
            "79 False\n",
            "80 False\n",
            "81 False\n",
            "82 False\n",
            "83 False\n",
            "84 False\n",
            "85 False\n",
            "86 False\n",
            "87 False\n",
            "88 False\n",
            "89 False\n",
            "90 False\n",
            "91 False\n",
            "92 False\n",
            "93 False\n",
            "94 False\n",
            "95 False\n",
            "96 False\n",
            "97 False\n",
            "98 False\n",
            "99 False\n",
            "100 False\n",
            "101 False\n",
            "102 False\n",
            "103 False\n",
            "104 False\n",
            "105 False\n",
            "106 False\n",
            "107 False\n",
            "108 False\n",
            "109 False\n",
            "110 False\n",
            "111 False\n",
            "112 False\n",
            "113 False\n",
            "114 False\n",
            "115 False\n",
            "116 False\n",
            "117 False\n",
            "118 False\n",
            "119 False\n",
            "120 False\n",
            "121 False\n",
            "122 False\n",
            "123 False\n",
            "124 False\n",
            "125 False\n",
            "126 False\n",
            "127 False\n",
            "128 False\n",
            "129 False\n",
            "130 False\n",
            "131 False\n",
            "132 False\n",
            "133 False\n",
            "134 False\n",
            "135 False\n",
            "136 False\n",
            "137 False\n",
            "138 False\n",
            "139 False\n",
            "140 False\n",
            "141 False\n",
            "142 False\n",
            "143 False\n",
            "144 False\n",
            "145 False\n",
            "146 False\n",
            "147 False\n",
            "148 False\n",
            "149 False\n"
          ],
          "name": "stdout"
        }
      ]
    },
    {
      "cell_type": "code",
      "metadata": {
        "id": "9e4lS1fjI6so"
      },
      "source": [
        ""
      ],
      "execution_count": 8,
      "outputs": []
    }
  ]
}