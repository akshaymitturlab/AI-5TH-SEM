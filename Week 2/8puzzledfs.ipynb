{
  "nbformat": 4,
  "nbformat_minor": 0,
  "metadata": {
    "kernelspec": {
      "name": "python3",
      "display_name": "Python 3",
      "language": "python"
    },
    "language_info": {
      "name": "python",
      "version": "3.7.6",
      "mimetype": "text/x-python",
      "codemirror_mode": {
        "name": "ipython",
        "version": 3
      },
      "pygments_lexer": "ipython3",
      "nbconvert_exporter": "python",
      "file_extension": ".py"
    },
    "colab": {
      "name": "8puzzledfs.ipynb",
      "provenance": []
    }
  },
  "cells": [
    {
      "cell_type": "markdown",
      "metadata": {
        "id": "re9VxPUKIu6b"
      },
      "source": [
        "# 8 Puzzle Problem"
      ]
    },
    {
      "cell_type": "code",
      "metadata": {
        "trusted": true,
        "id": "CD_jbJv8Iu6e"
      },
      "source": [
        "# Depth first search in search of target - Using Recursion\n",
        "\n",
        "def dfs(src,target,limit,visited_states):\n",
        "    # Base case if Target found\n",
        "    if src == target : return True\n",
        "    \n",
        "    \n",
        "    # Base case if limit exceeded\n",
        "\n",
        "    if limit <= 0 : return False\n",
        "    \n",
        "    # Add source to visited_states\n",
        "    visited_states.append(src)\n",
        "    \n",
        "    \n",
        "    # Find possible slides up, down, left right to current empty site\n",
        "    ### Jump to possible_moves function\n",
        "    poss_moves = possible_moves(src, visited_states)\n",
        "        \n",
        "        \n",
        "        \n",
        "    # For all possible moves gotten from the possible moves function\n",
        "    # Check if src equals to new targets\n",
        "    # Return True if target found in given depth limit\n",
        "    for move in poss_moves:\n",
        "        if dfs(move, target, limit-1, visited_states): return True\n",
        "    return False"
      ],
      "execution_count": 1,
      "outputs": []
    },
    {
      "cell_type": "code",
      "metadata": {
        "trusted": true,
        "id": "Iy5oxXJkIu6h"
      },
      "source": [
        "def possible_moves(state,visited_states): \n",
        "    # Find index of empty spot and assign it to b\n",
        "    b = state.index(-1)  \n",
        "    \n",
        "    #'d' for down, 'u' for up, 'r' for right, 'l' for left - directions array\n",
        "    d = []\n",
        "                                    \n",
        "    #Add all possible direction into directions array - Hint using if statements\n",
        "    \n",
        "    if b + 3 in range(9): d.append('d')\n",
        "    if b - 3 in range(9): d.append('u')\n",
        "    if b not in [0,3,6]: d.append('l')\n",
        "    if b not in [2,5,8]: d.append('r')\n",
        "    \n",
        "    # If direction is possible then add state to move\n",
        "    pos_moves = []\n",
        "    \n",
        "    # for all possible directions find the state if that move is played\n",
        "    ### Jump to gen function to generate all possible moves in the given directions\n",
        "    for m in d:\n",
        "        pos_moves.append(gen(state, m, b))\n",
        "    \n",
        "    # return all possible moves only if the move not in visited_states\n",
        "    return [move for move in pos_moves if move not in visited_states]\n",
        "\n",
        "\n",
        "\n"
      ],
      "execution_count": 2,
      "outputs": []
    },
    {
      "cell_type": "code",
      "metadata": {
        "trusted": true,
        "id": "cv4phhthIu6k"
      },
      "source": [
        "def gen(state, m, b): # m(move) is direction to slide, b(blank) is index of empty spot\n",
        "    # create a copy of current state to test the move\n",
        "    temp = state.copy()                               \n",
        "    \n",
        "    # if move is to slide empty spot to the left and so on\n",
        "    \n",
        "    if m == 'd': temp[b+3] , temp[b] = temp[b], temp[b+3]\n",
        "    if m == 'u': temp[b-3] , temp[b] = temp[b], temp[b-3]\n",
        "    if m == 'l': temp[b-1] , temp[b] = temp[b], temp[b-1]\n",
        "    if m == 'r': temp[b+1] , temp[b] = temp[b], temp[b+1]\n",
        "    \n",
        "    # return new state with tested move to later check if \"src == target\"\n",
        "    return temp"
      ],
      "execution_count": 3,
      "outputs": []
    },
    {
      "cell_type": "code",
      "metadata": {
        "trusted": true,
        "id": "F8nw4i8RIu6n"
      },
      "source": [
        "def iddfs(src,target,depth):\n",
        "    visited_states = []\n",
        "    # Return Min depth at which the target was found\n",
        "    for i in range(1, depth+1):\n",
        "        if dfs(src, target, i, visited_states): return True\n",
        "    return False"
      ],
      "execution_count": 4,
      "outputs": []
    },
    {
      "cell_type": "code",
      "metadata": {
        "trusted": true,
        "id": "r8bv3FYDIu6q",
        "outputId": "49dc626a-e707-4e66-9cdd-ff123550e52d",
        "colab": {
          "base_uri": "https://localhost:8080/",
          "height": 34
        }
      },
      "source": [
        "#Test 1\n",
        "src = [1,2,3,-1,4,5,6,7,8]\n",
        "target = [1,2,3,4,5,-1,6,7,8]         \n",
        "       \n",
        "\n",
        "\n",
        "depth = 2\n",
        "print(iddfs(src, target, depth)) # Minimum depth should be 2"
      ],
      "execution_count": 5,
      "outputs": [
        {
          "output_type": "stream",
          "text": [
            "True\n"
          ],
          "name": "stdout"
        }
      ]
    },
    {
      "cell_type": "code",
      "metadata": {
        "trusted": true,
        "id": "uYmXzVFkIu6t",
        "outputId": "b2cb34e8-9b66-43ce-a0cb-aecee98ed197",
        "colab": {
          "base_uri": "https://localhost:8080/",
          "height": 34
        }
      },
      "source": [
        "# Test 2\n",
        "src = [1,2,3,-1,4,5,6,7,8] \n",
        "target=[1,2,3,6,4,5,-1,7,8]\n",
        "\n",
        "depth = 1\n",
        "iddfs(src, target, depth) # Minimum depth is 1"
      ],
      "execution_count": 6,
      "outputs": [
        {
          "output_type": "execute_result",
          "data": {
            "text/plain": [
              "True"
            ]
          },
          "metadata": {
            "tags": []
          },
          "execution_count": 6
        }
      ]
    },
    {
      "cell_type": "code",
      "metadata": {
        "trusted": true,
        "id": "qPpYxfgvIu6w",
        "outputId": "837dc854-d58a-4ee2-a4d9-d1169c6392d8",
        "colab": {
          "base_uri": "https://localhost:8080/",
          "height": 34
        }
      },
      "source": [
        "# Test 3\n",
        "# Try to create a source and target that reaches large minimum required depth \n",
        "src = None\n",
        "target = None\n",
        "\n",
        "\n",
        "\n",
        "\n",
        "\n",
        "\n",
        "iddfs(src, target, depth) # I have reached 25 in the next cell, Lets see if u can beat that"
      ],
      "execution_count": 7,
      "outputs": [
        {
          "output_type": "execute_result",
          "data": {
            "text/plain": [
              "True"
            ]
          },
          "metadata": {
            "tags": []
          },
          "execution_count": 7
        }
      ]
    },
    {
      "cell_type": "code",
      "metadata": {
        "trusted": true,
        "id": "y0nnKXXuIu6y"
      },
      "source": [
        "# # Maximum Change \n",
        "# # An Experiemnt I did to try and find the maximum required depth assuming \n",
        "# # that this was the biggest possible change from src to target\n",
        "\n",
        "# # Uncomment to try\n",
        "# src = [1, 2, 3, 4, 5, 6, 7, 8, -1]\n",
        "# target = [-1, 1, 2, 3, 4, 5, 6, 7, 8]\n",
        "\n",
        "# for i in range(1, 150):\n",
        "#     val = iddfs(src,target,i)\n",
        "#     print(i, val)\n",
        "#     if val == True:\n",
        "#         break"
      ],
      "execution_count": 8,
      "outputs": []
    },
    {
      "cell_type": "code",
      "metadata": {
        "id": "9e4lS1fjI6so"
      },
      "source": [
        ""
      ],
      "execution_count": 8,
      "outputs": []
    }
  ]
}