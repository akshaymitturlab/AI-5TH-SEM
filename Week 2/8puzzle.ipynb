{
  "nbformat": 4,
  "nbformat_minor": 0,
  "metadata": {
    "colab": {
      "name": "8puzzle.ipynb",
      "provenance": []
    },
    "kernelspec": {
      "name": "python3",
      "display_name": "Python 3"
    }
  },
  "cells": [
    {
      "cell_type": "code",
      "metadata": {
        "id": "J-bP-auPP60l"
      },
      "source": [
        "# Depth first search in search of target - Using Recursion\n",
        "\n",
        "def dfs(src,target,limit,visited_states):\n",
        "    # Base case if Target found\n",
        "    if src == target : return True\n",
        "    \n",
        "    \n",
        "    # Base case if limit exceeded\n",
        "\n",
        "    if limit <= 0 : return False\n",
        "    \n",
        "    # Add source to visited_states\n",
        "    visited_states.append(src)\n",
        "    \n",
        "    \n",
        "    # Find possible slides up, down, left right to current empty site\n",
        "    ### Jump to possible_moves function\n",
        "    poss_moves = possible_moves(src, visited_states)\n",
        "        \n",
        "        \n",
        "        \n",
        "    # For all possible moves gotten from the possible moves function\n",
        "    # Check if src equals to new targets\n",
        "    # Return True if target found in given depth limit\n",
        "    for move in poss_moves:\n",
        "        if dfs(move, target, limit-1, visited_states): return True\n",
        "    return False"
      ],
      "execution_count": 1,
      "outputs": []
    },
    {
      "cell_type": "code",
      "metadata": {
        "id": "D0-O301yP-2P"
      },
      "source": [
        "def possible_moves(state,visited_states): \n",
        "    # Find index of empty spot and assign it to b\n",
        "    b = state.index(-1)  \n",
        "    \n",
        "    #'d' for down, 'u' for up, 'r' for right, 'l' for left - directions array\n",
        "    d = []\n",
        "                                    \n",
        "    #Add all possible direction into directions array - Hint using if statements\n",
        "    \n",
        "    if b + 3 in range(9): d.append('d')\n",
        "    if b - 3 in range(9): d.append('u')\n",
        "    if b not in [0,3,6]: d.append('l')\n",
        "    if b not in [2,5,8]: d.append('r')\n",
        "    \n",
        "    # If direction is possible then add state to move\n",
        "    pos_moves = []\n",
        "    \n",
        "    # for all possible directions find the state if that move is played\n",
        "    ### Jump to gen function to generate all possible moves in the given directions\n",
        "    for m in d:\n",
        "        pos_moves.append(gen(state, m, b))\n",
        "    \n",
        "    # return all possible moves only if the move not in visited_states\n",
        "    return [move for move in pos_moves if move not in visited_states]"
      ],
      "execution_count": 2,
      "outputs": []
    },
    {
      "cell_type": "code",
      "metadata": {
        "id": "CJX2t8KTQBhf"
      },
      "source": [
        "def gen(state, m, b): # m(move) is direction to slide, b(blank) is index of empty spot\n",
        "    # create a copy of current state to test the move\n",
        "    temp = state.copy()                               \n",
        "    \n",
        "    # if move is to slide empty spot to the left and so on\n",
        "    \n",
        "    if m == 'd': temp[b+3] , temp[b] = temp[b], temp[b+3]\n",
        "    if m == 'u': temp[b-3] , temp[b] = temp[b], temp[b-3]\n",
        "    if m == 'l': temp[b-1] , temp[b] = temp[b], temp[b-1]\n",
        "    if m == 'r': temp[b+1] , temp[b] = temp[b], temp[b+1]\n",
        "    \n",
        "    # return new state with tested move to later check if \"src == target\"\n",
        "    return temp"
      ],
      "execution_count": 3,
      "outputs": []
    },
    {
      "cell_type": "code",
      "metadata": {
        "id": "gjb8oEaKQC_Y"
      },
      "source": [
        "def iddfs(src,target,depth):\n",
        "    visited_states = []\n",
        "    # Return Min depth at which the target was found\n",
        "    for i in range(1, depth+1):\n",
        "        if dfs(src, target, i, visited_states): return True\n",
        "    return False"
      ],
      "execution_count": 4,
      "outputs": []
    },
    {
      "cell_type": "code",
      "metadata": {
        "id": "tg1KKcEPQGkB",
        "outputId": "8d55ea13-bb6d-4dfd-9065-51dc5a8e5048",
        "colab": {
          "base_uri": "https://localhost:8080/",
          "height": 34
        }
      },
      "source": [
        "#Test 1\n",
        "src = [1,2,3,-1,4,5,6,7,8]\n",
        "target = [1,2,3,4,5,-1,6,7,8]         \n",
        "       \n",
        "\n",
        "\n",
        "depth = 2\n",
        "print(iddfs(src, target, depth)) # Minimum depth should be 2"
      ],
      "execution_count": 5,
      "outputs": [
        {
          "output_type": "stream",
          "text": [
            "True\n"
          ],
          "name": "stdout"
        }
      ]
    }
  ]
}