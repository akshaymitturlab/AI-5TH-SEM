{
  "nbformat": 4,
  "nbformat_minor": 0,
  "metadata": {
    "colab": {
      "name": "1BM18CS010_AI_Lab_Test_2.ipynb",
      "provenance": []
    },
    "kernelspec": {
      "name": "python3",
      "display_name": "Python 3"
    }
  },
  "cells": [
    {
      "cell_type": "markdown",
      "metadata": {
        "id": "ZkDF1Lq0w-GH"
      },
      "source": [
        "# Given  P=>Q and R=>S Prove P V R =>Q V S using resolution. Assume  all the sentences are in CNF form. \r\n",
        "\r\n",
        "## Akshay Mittur, 1BM18CS010"
      ]
    },
    {
      "cell_type": "markdown",
      "metadata": {
        "id": "4Svk1FTlxHep"
      },
      "source": [
        "Converting to CNF,\r\n",
        "\r\n",
        "Rule 1: ~PvQ\r\n",
        "\r\n",
        "Rule 2: ~RvS\r\n",
        "\r\n",
        "('-' used instead of '~' due to markdown formatting below)\r\n",
        "\r\n",
        "Query: -P-RvQvS"
      ]
    },
    {
      "cell_type": "code",
      "metadata": {
        "colab": {
          "base_uri": "https://localhost:8080/"
        },
        "id": "7X3Kk1y3nEx4",
        "outputId": "60229814-35f8-433f-ee69-f8f946181da6"
      },
      "source": [
        "import re\r\n",
        "\r\n",
        "def main(rules, query):\r\n",
        "    rules = rules.split(' ')\r\n",
        "    steps = resolve(rules, query)\r\n",
        "    print('\\nStep\\t|Clause\\t|Derivation\\t')\r\n",
        "    print('-' * 30)\r\n",
        "    i = 1\r\n",
        "    for step in steps:\r\n",
        "        print(f' {i}.\\t| {step}\\t| {steps[step]}\\t')\r\n",
        "        i += 1\r\n",
        "        \r\n",
        "def negate(term):\r\n",
        "    return f'~{term}' if term[0] != '~' else term[1]\r\n",
        "\r\n",
        "def reverse(clause):\r\n",
        "    if len(clause) > 2:\r\n",
        "        t = split_terms(clause)\r\n",
        "        return f'{t[1]}v{t[0]}'\r\n",
        "    return ''\r\n",
        "\r\n",
        "def split_terms(rule):\r\n",
        "    exp = '(~*[PQRS])'\r\n",
        "    terms = re.findall(exp, rule)\r\n",
        "    return terms\r\n",
        "\r\n",
        "def contradiction(query, clause):\r\n",
        "    contradictions = [ f'{query}v{negate(query)}', f'{negate(query)}v{query}']\r\n",
        "    return clause in contradictions or reverse(clause) in contradictions\r\n",
        "\r\n",
        "def resolve(rules, query):\r\n",
        "    temp = rules.copy()\r\n",
        "    temp += [negate(query)]\r\n",
        "    steps = dict()\r\n",
        "    for rule in temp:\r\n",
        "        steps[rule] = 'Given.'\r\n",
        "    steps[negate(query)] = 'Negated conclusion.'\r\n",
        "    i = 0\r\n",
        "    while i < len(temp):\r\n",
        "        n = len(temp)\r\n",
        "        j = (i + 1) % n\r\n",
        "        clauses = []\r\n",
        "        while j != i:   \r\n",
        "            terms1 = split_terms(temp[i])\r\n",
        "            terms2 = split_terms(temp[j])\r\n",
        "            for c in terms1:\r\n",
        "                if negate(c) in terms2:\r\n",
        "                    t1 = [t for t in terms1 if t != c]\r\n",
        "                    t2 = [t for t in terms2 if t != negate(c)]\r\n",
        "                    gen = t1 + t2\r\n",
        "                    if len(gen) == 2:\r\n",
        "                        if gen[0] != negate(gen[1]):\r\n",
        "                            clauses += [f'{gen[0]}v{gen[1]}']\r\n",
        "                        else:\r\n",
        "                            if contradiction(query,f'{gen[0]}v{gen[1]}'):\r\n",
        "                                temp.append(f'{gen[0]}v{gen[1]}')\r\n",
        "                                steps[''] = f\"Resolved {temp[i]} and {temp[j]} to {temp[-1]}, which is in turn null. \\\r\n",
        "                                \\nA contradiction is found when {negate(query)} is assumed as true. Hence, {query} is true.\"\r\n",
        "                                return steps\r\n",
        "                    elif len(gen) == 1:\r\n",
        "                        clauses += [f'{gen[0]}']\r\n",
        "                    else:\r\n",
        "                        if contradiction(query,f'{terms1[0]}v{terms2[0]}'):\r\n",
        "                            temp.append(f'{terms1[0]}v{terms2[0]}')\r\n",
        "                            steps[''] = f\"Resolved {temp[i]} and {temp[j]} to {temp[-1]}, which is in turn null. \\\r\n",
        "                            \\nA contradiction is found when {negate(query)} is assumed as true. Hence, {query} is true.\"\r\n",
        "                            return steps\r\n",
        "            for clause in clauses:\r\n",
        "                if clause not in temp and clause != reverse(clause) and reverse(clause) not in temp:\r\n",
        "                    temp.append(clause)\r\n",
        "                    steps[clause] = f'Resolved from {temp[i]} and {temp[j]}.'\r\n",
        "            j = (j + 1) % n\r\n",
        "        i += 1\r\n",
        "    return steps\r\n",
        "\r\n",
        "rules = '~PvQ ~RvS' #separated by space\r\n",
        "query = '~P^~RvQvS'\r\n",
        "main(rules, query)"
      ],
      "execution_count": 9,
      "outputs": [
        {
          "output_type": "stream",
          "text": [
            "\n",
            "Step\t|Clause\t|Derivation\t\n",
            "------------------------------\n",
            " 1.\t| ~PvQ\t| Given.\t\n",
            " 2.\t| ~RvS\t| Given.\t\n",
            " 3.\t| P\t| Negated conclusion.\t\n",
            " 4.\t| Q\t| Resolved from ~PvQ and P.\t\n"
          ],
          "name": "stdout"
        }
      ]
    },
    {
      "cell_type": "code",
      "metadata": {
        "id": "_EyA7xxnntuk"
      },
      "source": [
        ""
      ],
      "execution_count": 9,
      "outputs": []
    }
  ]
}