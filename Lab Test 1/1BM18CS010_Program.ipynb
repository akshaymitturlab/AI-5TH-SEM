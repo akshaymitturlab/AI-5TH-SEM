{
  "nbformat": 4,
  "nbformat_minor": 0,
  "metadata": {
    "colab": {
      "name": "1BM18CS010-Program.ipynb",
      "provenance": []
    },
    "kernelspec": {
      "name": "python3",
      "display_name": "Python 3"
    }
  },
  "cells": [
    {
      "cell_type": "markdown",
      "metadata": {
        "id": "4LBkiEB8f1Vh"
      },
      "source": [
        "# AI LAB TEST 1\n",
        "## Maze problem using Euclidean heuristic"
      ]
    },
    {
      "cell_type": "code",
      "metadata": {
        "id": "v69Et9Q8QKwl"
      },
      "source": [
        "#Print Fucntion\n",
        "def printSolution( sol ): \n",
        "    for i in sol: \n",
        "        for j in i: \n",
        "            print(str(j) + \" \", end =\"\") \n",
        "        print(\"\") "
      ],
      "execution_count": 7,
      "outputs": []
    },
    {
      "cell_type": "code",
      "metadata": {
        "id": "2BRDWVxja2gW"
      },
      "source": [
        "#isValid Function to see if the cell is present/valid or not\n",
        "def isValid(maze, x, y, visited): \n",
        "    if x >= 0 and x < len(maze) and y >= 0 and y < len(maze[0]) and maze[x][y] == 1 and visited[x][y] != 1: \n",
        "        return True\n",
        "    return False"
      ],
      "execution_count": 8,
      "outputs": []
    },
    {
      "cell_type": "code",
      "metadata": {
        "id": "t5R3XZSpdK-h"
      },
      "source": [
        "#Heuristic Function as a function of Euclidean distance\n",
        "def euclid(current, goal):\n",
        "    return ((current[0]-goal[0])**2 + (current[1]-goal[1])**2)**0.5"
      ],
      "execution_count": 9,
      "outputs": []
    },
    {
      "cell_type": "code",
      "metadata": {
        "id": "O6j02WcxdcUF"
      },
      "source": [
        "#Functions that implement A star search \n",
        "def solveMaze(maze, goal): \n",
        "    sol = [ [ 0 for j in range(len(maze[0])) ] for i in range(len(maze)) ] \n",
        "    if solveMazeUtil(maze, 0, 0, sol, goal) == False: \n",
        "        print(\"Solution doesn't exist\"); \n",
        "        return False\n",
        "    printSolution(sol) \n",
        "    return True\n",
        "\n",
        "def solveMazeUtil(maze, x, y, sol, goal): \n",
        "    if x == goal[0] and y == goal[1] and maze[x][y]== 1: \n",
        "        sol[x][y] = 1\n",
        "        return True\n",
        "    if isSafe(maze, x, y, sol):\n",
        "        sol[x][y] = 1\n",
        "        temp = sol.copy()\n",
        "        directions = [(x+1,y),(x-1,y),(x,y+1),(x,y-1),(x+1,y-1),(x-1,y-1),(x+1,y+1),(x-1,y+1)]   \n",
        "        directions = [d for d in directions if isSafe(maze, d[0], d[1], sol)]\n",
        "        costs = [euclid(loc,goal) for loc in directions]\n",
        "        directions = [d for _, d in sorted(zip(costs,directions))]\n",
        "        for i in range(len(costs)):\n",
        "            if isSafe(maze, directions[i][0], directions[i][1], sol):\n",
        "                if solveMazeUtil(maze, directions[i][0], directions[i][1], sol, goal):\n",
        "                    return True\n",
        "        sol[x][y] = 0\n",
        "        return False"
      ],
      "execution_count": 10,
      "outputs": []
    },
    {
      "cell_type": "markdown",
      "metadata": {
        "id": "s3_nwm22d-be"
      },
      "source": [
        "## '1' represents free cell, '0' represents blocked cell\n",
        "\n",
        "## In the output, the sequence of '1's represent the path"
      ]
    },
    {
      "cell_type": "code",
      "metadata": {
        "id": "a_i6oR6YdmvO",
        "outputId": "30fc70f5-59af-4779-e6bb-2a1cb8e30682",
        "colab": {
          "base_uri": "https://localhost:8080/"
        }
      },
      "source": [
        "#Maze values\n",
        "#'1' represents free cell, '0' represents blocked cell\n",
        "\n",
        "# Values given in question: maze = [ [1, 0, 1, 1, 1], \n",
        "#         [0, 1, 1, 1, 1], \n",
        "#         [1, 1, 1, 1, 0], \n",
        "#         [1, 1, 0, 0, 1],\n",
        "#         [1, 0, 1, 1, 1] ] \n",
        "\n",
        "r = int(input(\"Enter the number of rows:\")) \n",
        "c = int(input(\"Enter the number of columns:\")) \n",
        "  \n",
        "maze = [] \n",
        "print(\"Enter the entries rowwise:\") \n",
        " \n",
        "for i in range(r):  \n",
        "    a =[] \n",
        "    for j in range(c): \n",
        "         a.append(int(input())) \n",
        "    maze.append(a)\n",
        "\n",
        "#Solving with given destination\n",
        "x = int(input(\"Enter Desination x value:\"))  \n",
        "y = int(input(\"Enter Desination y value:\"))  \n",
        "\n"
      ],
      "execution_count": 16,
      "outputs": [
        {
          "output_type": "stream",
          "text": [
            "Enter the number of rows:5\n",
            "Enter the number of columns:5\n",
            "Enter the entries rowwise:\n",
            "1\n",
            "0\n",
            "1\n",
            "1\n",
            "1\n",
            "0\n",
            "1\n",
            "1\n",
            "1\n",
            "1\n",
            "1\n",
            "1\n",
            "1\n",
            "1\n",
            "0\n",
            "1\n",
            "1\n",
            "0\n",
            "0\n",
            "1\n",
            "1\n",
            "0\n",
            "1\n",
            "1\n",
            "1\n",
            "Enter Desination x value:4\n",
            "Enter Desination y value:2\n"
          ],
          "name": "stdout"
        }
      ]
    },
    {
      "cell_type": "code",
      "metadata": {
        "id": "l4zl2kdLeSCj",
        "outputId": "3e88769d-efaa-4966-bf78-5ca6215ea40f",
        "colab": {
          "base_uri": "https://localhost:8080/"
        }
      },
      "source": [
        "#Solve\n",
        "solveMaze(maze, (4,2)) "
      ],
      "execution_count": 17,
      "outputs": [
        {
          "output_type": "stream",
          "text": [
            "1 0 0 0 0 \n",
            "0 1 0 0 0 \n",
            "0 0 1 0 0 \n",
            "0 1 0 0 0 \n",
            "0 0 1 0 0 \n"
          ],
          "name": "stdout"
        },
        {
          "output_type": "execute_result",
          "data": {
            "text/plain": [
              "True"
            ]
          },
          "metadata": {
            "tags": []
          },
          "execution_count": 17
        }
      ]
    }
  ]
}