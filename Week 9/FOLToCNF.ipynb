{
  "nbformat": 4,
  "nbformat_minor": 0,
  "metadata": {
    "colab": {
      "name": "FOLToCNF.ipynb",
      "provenance": []
    },
    "kernelspec": {
      "name": "python3",
      "display_name": "Python 3"
    }
  },
  "cells": [
    {
      "cell_type": "markdown",
      "metadata": {
        "id": "Eng5rFq6mECZ"
      },
      "source": [
        "# FOL to CNF Conversion\r\n",
        "Akshay Mittur, 1BM18CS010\r\n"
      ]
    },
    {
      "cell_type": "code",
      "metadata": {
        "id": "GkwENp3wjTJS"
      },
      "source": [
        "def getAttributes(string):\r\n",
        "    expr = '\\([^)]+\\)'\r\n",
        "    matches = re.findall(expr, string)\r\n",
        "    return [m for m in str(matches) if m.isalpha()]\r\n",
        "\r\n",
        "def getPredicates(string):\r\n",
        "    expr = '[a-z~]+\\([A-Za-z,]+\\)'\r\n",
        "    return re.findall(expr, string)\r\n",
        "\r\n",
        "def DeMorgan(sentence):\r\n",
        "    string = ''.join(list(sentence).copy())\r\n",
        "    string = string.replace('~~','')\r\n",
        "    flag = '[' in string\r\n",
        "    string = string.replace('~[','')\r\n",
        "    string = string.strip(']')\r\n",
        "    for predicate in getPredicates(string):\r\n",
        "        string = string.replace(predicate, f'~{predicate}')\r\n",
        "    s = list(string)\r\n",
        "    for i, c in enumerate(string):\r\n",
        "        if c == '|':\r\n",
        "            s[i] = '&'\r\n",
        "        elif c == '&':\r\n",
        "            s[i] = '|'\r\n",
        "    string = ''.join(s)    \r\n",
        "    string = string.replace('~~','')\r\n",
        "    return f'[{string}]' if flag else string\r\n",
        "\r\n",
        "def Skolemization(sentence):\r\n",
        "    SKOLEM_CONSTANTS = [f'{chr(c)}' for c in range(ord('A'), ord('Z')+1)]\r\n",
        "    statement = ''.join(list(sentence).copy())\r\n",
        "    matches = re.findall('[∀∃].', statement)\r\n",
        "    for match in matches[::-1]:\r\n",
        "        statement = statement.replace(match, '')\r\n",
        "        statements = re.findall('\\[\\[[^]]+\\]]', statement)\r\n",
        "        for s in statements:\r\n",
        "            statement = statement.replace(s, s[1:-1])\r\n",
        "        for predicate in getPredicates(statement):\r\n",
        "            attributes = getAttributes(predicate)\r\n",
        "            if ''.join(attributes).islower():\r\n",
        "                statement = statement.replace(match[1],SKOLEM_CONSTANTS.pop(0))\r\n",
        "            else:\r\n",
        "                aL = [a for a in attributes if a.islower()]\r\n",
        "                aU = [a for a in attributes if not a.islower()][0]\r\n",
        "                statement = statement.replace(aU, f'{SKOLEM_CONSTANTS.pop(0)}({aL[0] if len(aL) else match[1]})')\r\n",
        "    return statement"
      ],
      "execution_count": 1,
      "outputs": []
    },
    {
      "cell_type": "code",
      "metadata": {
        "id": "npuXHHcpm371"
      },
      "source": [
        "import re\r\n",
        "\r\n",
        "def fol_to_cnf(fol):\r\n",
        "    \r\n",
        "    statement = fol.replace(\"<=>\", \"_\")\r\n",
        "    while '_' in statement:\r\n",
        "        i = statement.index('_')\r\n",
        "        new_statement = '[' + statement[:i] + '=>' + statement[i+1:] + ']&['+ statement[i+1:] + '=>' + statement[:i] + ']'\r\n",
        "        statement = new_statement\r\n",
        "    statement = statement.replace(\"=>\", \"-\")\r\n",
        "    expr = '\\[([^]]+)\\]'\r\n",
        "    statements = re.findall(expr, statement)\r\n",
        "    for i, s in enumerate(statements):\r\n",
        "        if '[' in s and ']' not in s:\r\n",
        "            statements[i] += ']'\r\n",
        "    for s in statements:\r\n",
        "        statement = statement.replace(s, fol_to_cnf(s))\r\n",
        "    while '-' in statement:\r\n",
        "        i = statement.index('-')\r\n",
        "        br = statement.index('[') if '[' in statement else 0\r\n",
        "        new_statement = '~' + statement[br:i] + '|' + statement[i+1:]\r\n",
        "        statement = statement[:br] + new_statement if br > 0 else new_statement\r\n",
        "    while '~∀' in statement:\r\n",
        "        i = statement.index('~∀')\r\n",
        "        statement = list(statement)\r\n",
        "        statement[i], statement[i+1], statement[i+2] = '∃', statement[i+2], '~'\r\n",
        "        statement = ''.join(statement)\r\n",
        "    while '~∃' in statement:\r\n",
        "        i = statement.index('~∃')\r\n",
        "        s = list(statement)\r\n",
        "        s[i], s[i+1], s[i+2] = '∀', s[i+2], '~'\r\n",
        "        statement = ''.join(s)\r\n",
        "    statement = statement.replace('~[∀','[~∀')\r\n",
        "    statement = statement.replace('~[∃','[~∃')\r\n",
        "    expr = '(~[∀|∃].)'\r\n",
        "    statements = re.findall(expr, statement)\r\n",
        "    for s in statements:\r\n",
        "        statement = statement.replace(s, fol_to_cnf(s))\r\n",
        "    expr = '~\\[[^]]+\\]'\r\n",
        "    statements = re.findall(expr, statement)\r\n",
        "    for s in statements:\r\n",
        "        statement = statement.replace(s, DeMorgan(s))\r\n",
        "    return statement"
      ],
      "execution_count": 2,
      "outputs": []
    },
    {
      "cell_type": "code",
      "metadata": {
        "colab": {
          "base_uri": "https://localhost:8080/"
        },
        "id": "FHgf0Qn_nssB",
        "outputId": "341ad78a-a0f0-46a7-fcd6-40ffbdf4029e"
      },
      "source": [
        "#Interactive Test Cases\r\n",
        "n = int(input())\r\n",
        "while n:\r\n",
        "  statement = input(\"Enter FOL statement: \")\r\n",
        "  print(f\"FOL converted to CNF: {Skolemization(fol_to_cnf(statement))} \\n\\n\")\r\n",
        "  n -= 1\r\n",
        "\r\n",
        "\r\n",
        "#print(Skolemization(fol_to_cnf(\"∀x[∀y[animal(y)=>loves(x,y)]]=>[∃z[loves(z,x)]]\")))\r\n",
        "#print(fol_to_cnf(\"[american(x)&weapon(y)&sells(x,y,z)&hostile(z)]=>criminal(x)\"))"
      ],
      "execution_count": 10,
      "outputs": [
        {
          "output_type": "stream",
          "text": [
            "3\n",
            "Enter FOL statement: [american(x)&weapon(y)&sells(x,y,z)&hostile(z)]=>criminal(x)\n",
            "FOL converted to CNF: [~american(x)|~weapon(y)|~sells(x,y,z)|~hostile(z)]|criminal(x) \n",
            "\n",
            "\n",
            "Enter FOL statement: ∀x[∀y[animal(y)=>loves(x,y)]]=>[∃z[loves(z,x)]]\n",
            "FOL converted to CNF: [animal(G(x))&~loves(x,G(x))]|[loves(F(x),x)] \n",
            "\n",
            "\n",
            "Enter FOL statement: animal(y)<=>loves(x,y)\n",
            "FOL converted to CNF: [~animal(y)|loves(x,y)]&[~loves(x,y)|animal(y)] \n",
            "\n",
            "\n"
          ],
          "name": "stdout"
        }
      ]
    }
  ]
}